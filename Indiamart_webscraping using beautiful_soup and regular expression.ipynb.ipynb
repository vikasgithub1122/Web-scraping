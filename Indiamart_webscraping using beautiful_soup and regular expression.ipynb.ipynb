{
 "cells": [
  {
   "cell_type": "code",
   "execution_count": 72,
   "id": "4fe46ec4-33c3-44ca-9913-d2ec55ac8ef1",
   "metadata": {},
   "outputs": [],
   "source": [
    "import requests\n",
    "from bs4 import BeautifulSoup\n",
    "import pandas as pd"
   ]
  },
  {
   "cell_type": "code",
   "execution_count": 73,
   "id": "193c8b09",
   "metadata": {},
   "outputs": [
    {
     "data": {
      "text/plain": [
       "<Response [200]>"
      ]
     },
     "execution_count": 73,
     "metadata": {},
     "output_type": "execute_result"
    }
   ],
   "source": [
    "page = requests.get('https://dir.indiamart.com/search.mp?ss=industrial&prdsrc=1&v=4&qry_typ=P&current_mcatid=507&lang=en&wc=1&mcatid=&catid=&qr_nm=gd&res=RC5&com-cf=nl&ptrs=na&ktp=N0&mtp=S&stype=attr%3D1&Mspl=0')\n",
    "\n",
    "page"
   ]
  },
  {
   "cell_type": "code",
   "execution_count": 74,
   "id": "a40fec81",
   "metadata": {},
   "outputs": [],
   "source": [
    "soup = BeautifulSoup(page.content, 'html.parser')\n",
    "# print(soup.prettify())"
   ]
  },
  {
   "cell_type": "code",
   "execution_count": 75,
   "id": "e1a36a8f",
   "metadata": {},
   "outputs": [
    {
     "name": "stdout",
     "output_type": "stream",
     "text": [
      "28\n"
     ]
    }
   ],
   "source": [
    "Link= []\n",
    "for i in soup.find_all('a',class_=re.compile(r\"cardlinks\")):\n",
    "    Link.append(i.get('href'))   \n",
    "print(len(Link))"
   ]
  },
  {
   "cell_type": "code",
   "execution_count": 112,
   "id": "79f080e2",
   "metadata": {},
   "outputs": [
    {
     "name": "stdout",
     "output_type": "stream",
     "text": [
      "Form: Powder Beta Amylase Enzyme, Packaging Size: 25Kg\n",
      "Duct Air Cooler, Material: Plastic\n",
      "Mild Steel Dref 2 Yarn Spinning Machine, For Industry\n",
      "Industrial\n",
      "Industrial Architectural Consultancy Service, in Pan India\n",
      "Floor Mounted industrial Fan Coil Unit for chilled water, MS,SS\n",
      "White Crystal Crystals Citric Acid Monohydrate, Packaging Type: Bag, Grade Standard: Industrial Grade\n",
      "Dynatech Sectional Warping Machine\n",
      "Multicolor Jacquard Raj Patti, For Textile Industry, Size: Standard\n",
      "Siemens Profinet Cable 6XV1840-2AH10\n",
      "Living Room\n",
      "Bio Sil BIO-POL Emulsifier -VBD-204, For Industrial, Grade Standard: BP\n",
      "JEANS WASHING TOWEL\n",
      "Cast Iron Metal 28mm pipe fittings round tube connector Joker\n",
      "14\n"
     ]
    }
   ],
   "source": [
    "import re\n",
    "product = []\n",
    "\n",
    "for i in soup.find_all('span',class_=re.compile(r'elps elps2')):\n",
    "    product.append(i.text)\n",
    "    print(i.text)\n",
    "print(len(product))"
   ]
  },
  {
   "cell_type": "code",
   "execution_count": 77,
   "id": "11af78ed",
   "metadata": {},
   "outputs": [
    {
     "data": {
      "text/plain": [
       "['Form: Powder Beta Amylase Enzyme, Packaging Size: 25Kg',\n",
       " 'Duct Air Cooler, Material: Plastic',\n",
       " 'Mild Steel Dref 2 Yarn Spinning Machine, For Industry',\n",
       " 'Industrial',\n",
       " 'Industrial Architectural Consultancy Service, in Pan India',\n",
       " 'Floor Mounted industrial Fan Coil Unit for chilled water, MS,SS',\n",
       " 'White Crystal Crystals Citric Acid Monohydrate, Packaging Type: Bag, Grade Standard: Industrial Grade',\n",
       " 'Dynatech Sectional Warping Machine',\n",
       " 'Multicolor Jacquard Raj Patti, For Textile Industry, Size: Standard',\n",
       " 'Siemens Profinet Cable 6XV1840-2AH10',\n",
       " 'Living Room',\n",
       " 'Bio Sil BIO-POL Emulsifier -VBD-204, For Industrial, Grade Standard: BP',\n",
       " 'JEANS WASHING TOWEL',\n",
       " 'Cast Iron Metal 28mm pipe fittings round tube connector Joker']"
      ]
     },
     "execution_count": 77,
     "metadata": {},
     "output_type": "execute_result"
    }
   ],
   "source": [
    "product"
   ]
  },
  {
   "cell_type": "code",
   "execution_count": 114,
   "id": "21f5e0f6",
   "metadata": {},
   "outputs": [
    {
     "name": "stdout",
     "output_type": "stream",
     "text": [
      "14\n"
     ]
    }
   ],
   "source": [
    "company = []\n",
    "\n",
    "for i in soup.find_all('div',class_=re.compile(r\"companyname\")):\n",
    "    company.append(i.text)\n",
    "print(len(company))"
   ]
  },
  {
   "cell_type": "code",
   "execution_count": 79,
   "id": "a6bead8e",
   "metadata": {},
   "outputs": [
    {
     "data": {
      "text/plain": [
       "['Bioven Ingredients',\n",
       " 'Virty Enterprise',\n",
       " 'Joshi & Associates',\n",
       " 'Manisha Steel CentreIndiaMART Verified Exporter',\n",
       " 'Bold Designers',\n",
       " 'Omeel Coils',\n",
       " 'Virsen Aoxi Chem',\n",
       " 'Clartech Engineers Private Limited',\n",
       " 'L N Textile Traders',\n",
       " 'Nextgen Mro Source & Supply',\n",
       " 'Real TextilesIndiaMART Verified Exporter',\n",
       " 'Bio Sil Laboratories Co.',\n",
       " 'Denim Technomate',\n",
       " 'Raj Pal Safety Tools']"
      ]
     },
     "execution_count": 79,
     "metadata": {},
     "output_type": "execute_result"
    }
   ],
   "source": [
    "company "
   ]
  },
  {
   "cell_type": "code",
   "execution_count": 80,
   "id": "482f2550",
   "metadata": {},
   "outputs": [
    {
     "name": "stdout",
     "output_type": "stream",
     "text": [
      "14\n"
     ]
    }
   ],
   "source": [
    "location = []\n",
    "\n",
    "for i in soup.find_all('div',class_=re.compile(r\"newLocationUi fs11 clr7 lh12 flx100 pr db-trgt tac\")):\n",
    "    location.append(i.text)\n",
    "print(len(location))"
   ]
  },
  {
   "cell_type": "code",
   "execution_count": 81,
   "id": "3a03993c",
   "metadata": {},
   "outputs": [
    {
     "data": {
      "text/plain": [
       "[' Greater Noida Upsidc Industrial Area, K 232 Site 5, Kasna, Greater Noida - 201306, Dist.Gautam Budh Nagar, Uttar Pradesh',\n",
       " ' Vapi, Valsad 1st Floor Shop No -115 Saraswati Nagar Samarth Residency Vapi, Vapi, Valsad - 396191, Dist.Valsad, Gujarat',\n",
       " ' Jodhpur, Ahmedabad B-102, Ashray Tower Anand Nagar Cross Road, Jodhpur, Ahmedabad - 380015, Dist.Ahmedabad, Gujarat',\n",
       " ' Madhavbaug, Mumbai Ground Floor, Plot No. 162, T.P street ,Cooper Compound, Trimbak Parshuram Street 162, TP Street, 6th Kumbharwada, Gali No. 2, Coper Compound, Madhavbaug, Mumbai - 400004, Dist.Mumbai, Maharashtra',\n",
       " ' Parvati, Pune BL.no. 4, F No 501,, Sahkar Nagar, laxminagar, Parvati, Pune - 411009, Dist.Pune, Maharashtra',\n",
       " ' Pipodara, Surat Plot No. 18, 19 & 20, Near Kim Chokdi, Opposite Bhagyoday Hotel National Highway No. 08, Village Pipodara, Tal. Mangrol, Pipodara, Surat - 394110, Dist.Surat, Gujarat',\n",
       " ' Mulund West, Mumbai 506 Rose Blossom Yogi Hills, Mulund West, Mumbai - 400080, Dist.Mumbai, Maharashtra',\n",
       " ' Vatva, Ahmedabad Plot No. 413, V Road, Phase II GIDC Industrial Estate, Vatva, Ahmedabad - 382445, Dist.Ahmedabad, Gujarat',\n",
       " ' Udhana, Surat Shop NO-1, Plot NO.5132, Near Water Tank, Main Road GIDC, Sachin, Udhana, Surat - 395007, Dist.Surat, Gujarat',\n",
       " ' Kundan Nagar, Jaipur Ground Floor 65/113 Pratap Nagar Sec 65 Rhb Sanganer Jaipur, Kundan Nagar, Jaipur - 302033, Dist.Jaipur, Rajasthan',\n",
       " ' Sengunthapuram, Karur SF No 408, Kamarajapuram West, Opp Sengunthapuram 11th Cross, Sengunthapuram, Karur - 639002, Dist.Karur, Tamil Nadu',\n",
       " ' Okhla Industrial Estate, Kolkata Room No-30, Ground Floor, 34 Armenina Street, Okhla Industrial Estate, Kolkata - 700001, Dist.Kolkata, West Bengal',\n",
       " ' Narela, New Delhi Plot No.760e, Dsidc Industrial Area, Narela, North West, Narela, New Delhi - 110040, Dist.Delhi, Delhi',\n",
       " ' Mie B, Bahadurgarh Opposite Metro Pillar No -773 , Main Delhi Rohtak Road, Mie B, Bahadurgarh - 124507, Dist.Jhajjar, Haryana']"
      ]
     },
     "execution_count": 81,
     "metadata": {},
     "output_type": "execute_result"
    }
   ],
   "source": [
    "location"
   ]
  },
  {
   "cell_type": "code",
   "execution_count": 82,
   "id": "b1173d93",
   "metadata": {},
   "outputs": [
    {
     "name": "stdout",
     "output_type": "stream",
     "text": [
      "14\n"
     ]
    }
   ],
   "source": [
    "phone = []\n",
    "\n",
    "for i in soup.find_all('span',class_=re.compile(r\"duet\")):\n",
    "    phone.append(i.text)\n",
    "print(len(phone))"
   ]
  },
  {
   "cell_type": "code",
   "execution_count": 83,
   "id": "0bc5c400",
   "metadata": {},
   "outputs": [
    {
     "data": {
      "text/plain": [
       "['7942543192',\n",
       " '7942701364',\n",
       " '8046033686',\n",
       " '8046041615',\n",
       " '8046059435',\n",
       " '8046073782',\n",
       " '8046031868',\n",
       " '8048951285',\n",
       " '7942968639',\n",
       " '7942792792',\n",
       " '7942967594',\n",
       " '8046064742',\n",
       " '7942801742',\n",
       " '8047699304']"
      ]
     },
     "execution_count": 83,
     "metadata": {},
     "output_type": "execute_result"
    }
   ],
   "source": [
    "phone"
   ]
  },
  {
   "cell_type": "code",
   "execution_count": 84,
   "id": "42377c1d",
   "metadata": {},
   "outputs": [
    {
     "data": {
      "text/html": [
       "<div>\n",
       "<style scoped>\n",
       "    .dataframe tbody tr th:only-of-type {\n",
       "        vertical-align: middle;\n",
       "    }\n",
       "\n",
       "    .dataframe tbody tr th {\n",
       "        vertical-align: top;\n",
       "    }\n",
       "\n",
       "    .dataframe thead th {\n",
       "        text-align: right;\n",
       "    }\n",
       "</style>\n",
       "<table border=\"1\" class=\"dataframe\">\n",
       "  <thead>\n",
       "    <tr style=\"text-align: right;\">\n",
       "      <th></th>\n",
       "      <th>Product Name</th>\n",
       "      <th>Company Name</th>\n",
       "      <th>Location</th>\n",
       "      <th>Contact Number</th>\n",
       "      <th>Product Link</th>\n",
       "    </tr>\n",
       "  </thead>\n",
       "  <tbody>\n",
       "    <tr>\n",
       "      <th>0</th>\n",
       "      <td>Form: Powder Beta Amylase Enzyme, Packaging Si...</td>\n",
       "      <td>Bioven Ingredients</td>\n",
       "      <td>Greater Noida Upsidc Industrial Area, K 232 S...</td>\n",
       "      <td>7942543192</td>\n",
       "      <td>https://www.indiamart.com/proddetail/beta-amyl...</td>\n",
       "    </tr>\n",
       "    <tr>\n",
       "      <th>1</th>\n",
       "      <td>Duct Air Cooler, Material: Plastic</td>\n",
       "      <td>Virty Enterprise</td>\n",
       "      <td>Vapi, Valsad 1st Floor Shop No -115 Saraswati...</td>\n",
       "      <td>7942701364</td>\n",
       "      <td>https://www.bioveningredients.co.in/?pos=1&amp;kwd...</td>\n",
       "    </tr>\n",
       "    <tr>\n",
       "      <th>2</th>\n",
       "      <td>Mild Steel Dref 2 Yarn Spinning Machine, For I...</td>\n",
       "      <td>Joshi &amp; Associates</td>\n",
       "      <td>Jodhpur, Ahmedabad B-102, Ashray Tower Anand ...</td>\n",
       "      <td>8046033686</td>\n",
       "      <td>https://www.indiamart.com/proddetail/duct-air-...</td>\n",
       "    </tr>\n",
       "    <tr>\n",
       "      <th>3</th>\n",
       "      <td>Industrial</td>\n",
       "      <td>Manisha Steel CentreIndiaMART Verified Exporter</td>\n",
       "      <td>Madhavbaug, Mumbai Ground Floor, Plot No. 162...</td>\n",
       "      <td>8046041615</td>\n",
       "      <td>https://www.virtyenterprise.com/?pos=2&amp;kwd=ind...</td>\n",
       "    </tr>\n",
       "    <tr>\n",
       "      <th>4</th>\n",
       "      <td>Industrial Architectural Consultancy Service, ...</td>\n",
       "      <td>Bold Designers</td>\n",
       "      <td>Parvati, Pune BL.no. 4, F No 501,, Sahkar Nag...</td>\n",
       "      <td>8046059435</td>\n",
       "      <td>https://www.indiamart.com/proddetail/dref-2-ya...</td>\n",
       "    </tr>\n",
       "    <tr>\n",
       "      <th>5</th>\n",
       "      <td>Floor Mounted industrial Fan Coil Unit for chi...</td>\n",
       "      <td>Omeel Coils</td>\n",
       "      <td>Pipodara, Surat Plot No. 18, 19 &amp; 20, Near Ki...</td>\n",
       "      <td>8046073782</td>\n",
       "      <td>https://www.indiamart.com/joshiassociates/?pos...</td>\n",
       "    </tr>\n",
       "    <tr>\n",
       "      <th>6</th>\n",
       "      <td>White Crystal Crystals Citric Acid Monohydrate...</td>\n",
       "      <td>Virsen Aoxi Chem</td>\n",
       "      <td>Mulund West, Mumbai 506 Rose Blossom Yogi Hil...</td>\n",
       "      <td>8046031868</td>\n",
       "      <td>https://www.indiamart.com/proddetail/industria...</td>\n",
       "    </tr>\n",
       "    <tr>\n",
       "      <th>7</th>\n",
       "      <td>Dynatech Sectional Warping Machine</td>\n",
       "      <td>Clartech Engineers Private Limited</td>\n",
       "      <td>Vatva, Ahmedabad Plot No. 413, V Road, Phase ...</td>\n",
       "      <td>8048951285</td>\n",
       "      <td>https://www.indiamart.com/manishasteelcentre/?...</td>\n",
       "    </tr>\n",
       "    <tr>\n",
       "      <th>8</th>\n",
       "      <td>Multicolor Jacquard Raj Patti, For Textile Ind...</td>\n",
       "      <td>L N Textile Traders</td>\n",
       "      <td>Udhana, Surat Shop NO-1, Plot NO.5132, Near W...</td>\n",
       "      <td>7942968639</td>\n",
       "      <td>https://www.indiamart.com/proddetail/industria...</td>\n",
       "    </tr>\n",
       "    <tr>\n",
       "      <th>9</th>\n",
       "      <td>Siemens Profinet Cable 6XV1840-2AH10</td>\n",
       "      <td>Nextgen Mro Source &amp; Supply</td>\n",
       "      <td>Kundan Nagar, Jaipur Ground Floor 65/113 Prat...</td>\n",
       "      <td>7942792792</td>\n",
       "      <td>https://www.bolddesigner.in/?pos=5&amp;kwd=industr...</td>\n",
       "    </tr>\n",
       "    <tr>\n",
       "      <th>10</th>\n",
       "      <td>Living Room</td>\n",
       "      <td>Real TextilesIndiaMART Verified Exporter</td>\n",
       "      <td>Sengunthapuram, Karur SF No 408, Kamarajapura...</td>\n",
       "      <td>7942967594</td>\n",
       "      <td>https://www.indiamart.com/proddetail/industria...</td>\n",
       "    </tr>\n",
       "    <tr>\n",
       "      <th>11</th>\n",
       "      <td>Bio Sil BIO-POL Emulsifier -VBD-204, For Indus...</td>\n",
       "      <td>Bio Sil Laboratories Co.</td>\n",
       "      <td>Okhla Industrial Estate, Kolkata Room No-30, ...</td>\n",
       "      <td>8046064742</td>\n",
       "      <td>https://www.omeelcoils.in/?pos=6&amp;kwd=industria...</td>\n",
       "    </tr>\n",
       "    <tr>\n",
       "      <th>12</th>\n",
       "      <td>JEANS WASHING TOWEL</td>\n",
       "      <td>Denim Technomate</td>\n",
       "      <td>Narela, New Delhi Plot No.760e, Dsidc Industr...</td>\n",
       "      <td>7942801742</td>\n",
       "      <td>https://www.indiamart.com/proddetail/citric-ac...</td>\n",
       "    </tr>\n",
       "    <tr>\n",
       "      <th>13</th>\n",
       "      <td>Cast Iron Metal 28mm pipe fittings round tube ...</td>\n",
       "      <td>Raj Pal Safety Tools</td>\n",
       "      <td>Mie B, Bahadurgarh Opposite Metro Pillar No -...</td>\n",
       "      <td>8047699304</td>\n",
       "      <td>https://www.indiamart.com/virsenauxichem/?pos=...</td>\n",
       "    </tr>\n",
       "  </tbody>\n",
       "</table>\n",
       "</div>"
      ],
      "text/plain": [
       "                                         Product Name  \\\n",
       "0   Form: Powder Beta Amylase Enzyme, Packaging Si...   \n",
       "1                  Duct Air Cooler, Material: Plastic   \n",
       "2   Mild Steel Dref 2 Yarn Spinning Machine, For I...   \n",
       "3                                          Industrial   \n",
       "4   Industrial Architectural Consultancy Service, ...   \n",
       "5   Floor Mounted industrial Fan Coil Unit for chi...   \n",
       "6   White Crystal Crystals Citric Acid Monohydrate...   \n",
       "7                  Dynatech Sectional Warping Machine   \n",
       "8   Multicolor Jacquard Raj Patti, For Textile Ind...   \n",
       "9                Siemens Profinet Cable 6XV1840-2AH10   \n",
       "10                                        Living Room   \n",
       "11  Bio Sil BIO-POL Emulsifier -VBD-204, For Indus...   \n",
       "12                                JEANS WASHING TOWEL   \n",
       "13  Cast Iron Metal 28mm pipe fittings round tube ...   \n",
       "\n",
       "                                       Company Name  \\\n",
       "0                                Bioven Ingredients   \n",
       "1                                  Virty Enterprise   \n",
       "2                                Joshi & Associates   \n",
       "3   Manisha Steel CentreIndiaMART Verified Exporter   \n",
       "4                                    Bold Designers   \n",
       "5                                       Omeel Coils   \n",
       "6                                  Virsen Aoxi Chem   \n",
       "7                Clartech Engineers Private Limited   \n",
       "8                               L N Textile Traders   \n",
       "9                       Nextgen Mro Source & Supply   \n",
       "10         Real TextilesIndiaMART Verified Exporter   \n",
       "11                         Bio Sil Laboratories Co.   \n",
       "12                                 Denim Technomate   \n",
       "13                             Raj Pal Safety Tools   \n",
       "\n",
       "                                             Location Contact Number  \\\n",
       "0    Greater Noida Upsidc Industrial Area, K 232 S...     7942543192   \n",
       "1    Vapi, Valsad 1st Floor Shop No -115 Saraswati...     7942701364   \n",
       "2    Jodhpur, Ahmedabad B-102, Ashray Tower Anand ...     8046033686   \n",
       "3    Madhavbaug, Mumbai Ground Floor, Plot No. 162...     8046041615   \n",
       "4    Parvati, Pune BL.no. 4, F No 501,, Sahkar Nag...     8046059435   \n",
       "5    Pipodara, Surat Plot No. 18, 19 & 20, Near Ki...     8046073782   \n",
       "6    Mulund West, Mumbai 506 Rose Blossom Yogi Hil...     8046031868   \n",
       "7    Vatva, Ahmedabad Plot No. 413, V Road, Phase ...     8048951285   \n",
       "8    Udhana, Surat Shop NO-1, Plot NO.5132, Near W...     7942968639   \n",
       "9    Kundan Nagar, Jaipur Ground Floor 65/113 Prat...     7942792792   \n",
       "10   Sengunthapuram, Karur SF No 408, Kamarajapura...     7942967594   \n",
       "11   Okhla Industrial Estate, Kolkata Room No-30, ...     8046064742   \n",
       "12   Narela, New Delhi Plot No.760e, Dsidc Industr...     7942801742   \n",
       "13   Mie B, Bahadurgarh Opposite Metro Pillar No -...     8047699304   \n",
       "\n",
       "                                         Product Link  \n",
       "0   https://www.indiamart.com/proddetail/beta-amyl...  \n",
       "1   https://www.bioveningredients.co.in/?pos=1&kwd...  \n",
       "2   https://www.indiamart.com/proddetail/duct-air-...  \n",
       "3   https://www.virtyenterprise.com/?pos=2&kwd=ind...  \n",
       "4   https://www.indiamart.com/proddetail/dref-2-ya...  \n",
       "5   https://www.indiamart.com/joshiassociates/?pos...  \n",
       "6   https://www.indiamart.com/proddetail/industria...  \n",
       "7   https://www.indiamart.com/manishasteelcentre/?...  \n",
       "8   https://www.indiamart.com/proddetail/industria...  \n",
       "9   https://www.bolddesigner.in/?pos=5&kwd=industr...  \n",
       "10  https://www.indiamart.com/proddetail/industria...  \n",
       "11  https://www.omeelcoils.in/?pos=6&kwd=industria...  \n",
       "12  https://www.indiamart.com/proddetail/citric-ac...  \n",
       "13  https://www.indiamart.com/virsenauxichem/?pos=...  "
      ]
     },
     "execution_count": 84,
     "metadata": {},
     "output_type": "execute_result"
    }
   ],
   "source": [
    "manufacturer= pd.DataFrame({'Product Name':product,'Company Name':company,'Location':location,'Contact Number':phone,'Product Link':Link[:14]})  \n",
    "manufacturer"
   ]
  },
  {
   "cell_type": "code",
   "execution_count": 85,
   "id": "743252f9-4917-4a31-8870-31544a5a6747",
   "metadata": {},
   "outputs": [],
   "source": [
    "manufacturer.to_csv('indiamart_manufacturer.csv', index=False)"
   ]
  },
  {
   "cell_type": "code",
   "execution_count": null,
   "id": "c6ef1eb3-3b9f-49ba-b89b-f11297852d06",
   "metadata": {},
   "outputs": [],
   "source": []
  }
 ],
 "metadata": {
  "kernelspec": {
   "display_name": "Python 3 (ipykernel)",
   "language": "python",
   "name": "python3"
  },
  "language_info": {
   "codemirror_mode": {
    "name": "ipython",
    "version": 3
   },
   "file_extension": ".py",
   "mimetype": "text/x-python",
   "name": "python",
   "nbconvert_exporter": "python",
   "pygments_lexer": "ipython3",
   "version": "3.11.7"
  }
 },
 "nbformat": 4,
 "nbformat_minor": 5
}
